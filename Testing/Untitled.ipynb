{
 "cells": [
  {
   "cell_type": "code",
   "execution_count": 8,
   "id": "69b5867f-b22e-44a6-98d2-487eda13b805",
   "metadata": {},
   "outputs": [
    {
     "data": {
      "text/plain": [
       "{'Data File Name :': 'o:\\\\res_shared_folders\\\\sh-biocns\\\\ipsc reprogramming pilot data\\\\fdss\\\\03022023_elbipsc-neuro-matrigel plate div31_1\\\\03022023_elbipsc-neuro-matrigel plate div31_1.v3',\n",
       " 'Comment :': nan,\n",
       " 'Date :': '02/03/2023',\n",
       " 'Time :': '15:21:37',\n",
       " 'Processing :': 'Spetial Uniformity',\n",
       " 'Marker1 :': '0:05:01.346',\n",
       " 'Injection_marker': 5.022433333333334}"
      ]
     },
     "execution_count": 8,
     "metadata": {},
     "output_type": "execute_result"
    }
   ],
   "source": [
    "import pandas as pd\n",
    "\n",
    "def metadata(filepath):\n",
    "\n",
    "    # Importing metadata\n",
    "    metadata = pd.read_csv(filepath, delimiter='\\t', nrows=6, header=None, index_col=1)\n",
    "    metadata\n",
    "    metadata = metadata.drop(columns=[0])\n",
    "    metadata = metadata[2].to_dict()\n",
    "\n",
    "    acquisition_date = pd.to_datetime(metadata['Date :'])\n",
    "    acquisition_time = pd.to_timedelta(metadata['Time :'])\n",
    "\n",
    "    marker = pd.to_timedelta(metadata['Marker1 :'])\n",
    "    markerint = marker / pd.Timedelta(minutes=1)\n",
    "    metadata['Injection_marker'] = markerint\n",
    "\n",
    "    # summary_metadata['File name'] = filepath.split(\"\\\\\")[-1]\n",
    "    summary_metadata = {}\n",
    "    summary_metadata['all metadata'] = metadata\n",
    "    summary_metadata['Acquisition date'] = acquisition_date\n",
    "    summary_metadata['Acquisition time'] = acquisition_time\n",
    "    summary_metadata['Time of application'] = metadata['Injection_marker']\n",
    "\n",
    "    return summary_metadata\n",
    "\n",
    "new = r\"C:\\Users\\fernadi1\\OneDrive - Idorsia\\PyCharm\\Calcium-oscillations\\samples\\96\\03022023_elbipsc-neuro-matrigel plate div31_1_Raw_Ratio.TXT\"\n",
    "\n",
    "\n",
    "\n",
    "metadata = metadata(new)\n",
    "\n",
    "metadata['all metadata'] "
   ]
  },
  {
   "cell_type": "code",
   "execution_count": null,
   "id": "2a8334fe-403b-4fd9-8fcb-fbb14138b935",
   "metadata": {},
   "outputs": [],
   "source": []
  },
  {
   "cell_type": "code",
   "execution_count": null,
   "id": "93d22d70-c8d7-446f-a132-09e52bdb46ee",
   "metadata": {},
   "outputs": [],
   "source": []
  }
 ],
 "metadata": {
  "kernelspec": {
   "display_name": "Python 3 (ipykernel)",
   "language": "python",
   "name": "python3"
  },
  "language_info": {
   "codemirror_mode": {
    "name": "ipython",
    "version": 3
   },
   "file_extension": ".py",
   "mimetype": "text/x-python",
   "name": "python",
   "nbconvert_exporter": "python",
   "pygments_lexer": "ipython3",
   "version": "3.9.16"
  }
 },
 "nbformat": 4,
 "nbformat_minor": 5
}
