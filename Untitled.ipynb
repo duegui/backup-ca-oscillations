{
 "cells": [
  {
   "cell_type": "code",
   "execution_count": 20,
   "id": "69b5867f-b22e-44a6-98d2-487eda13b805",
   "metadata": {},
   "outputs": [],
   "source": [
    "import pandas as pd\n",
    "import numpy as np\n",
    "import plotly.express as px\n",
    "import all_functions as af\n",
    "import plotly.graph_objects as go\n",
    "import numpy as np\n",
    "\n",
    "new = r\"C:\\Users\\fernadi1\\OneDrive - Idorsia\\PyCharm\\Calcium-oscillations\\samples\\96\\03022023_elbipsc-neuro-matrigel plate div31_1_Raw_Ratio.TXT\"\n",
    "\n",
    "\n",
    "summary_metadata, rawdata= af.importing(new,98)\n"
   ]
  },
  {
   "cell_type": "code",
   "execution_count": 42,
   "id": "dac6ebf8-658e-4bf1-9a66-cbd2521eda6e",
   "metadata": {},
   "outputs": [
    {
     "name": "stdout",
     "output_type": "stream",
     "text": [
      "This is the format of your plot grid:\n",
      "[ (1,1) x,y         ]  [ (1,2) x2,y2       ]  [ (1,3) x3,y3       ]  [ (1,4) x4,y4       ]  [ (1,5) x5,y5       ]  [ (1,6) x6,y6       ]  [ (1,7) x7,y7       ]  [ (1,8) x8,y8       ]  [ (1,9) x9,y9       ]  [ (1,10) x10,y10    ]  [ (1,11) x11,y11    ]  [ (1,12) x12,y12    ]\n",
      "[ (2,1) x13,y13     ]  [ (2,2) x14,y14     ]  [ (2,3) x15,y15     ]  [ (2,4) x16,y16     ]  [ (2,5) x17,y17     ]  [ (2,6) x18,y18     ]  [ (2,7) x19,y19     ]  [ (2,8) x20,y20     ]  [ (2,9) x21,y21     ]  [ (2,10) x22,y22    ]  [ (2,11) x23,y23    ]  [ (2,12) x24,y24    ]\n",
      "[ (3,1) x25,y25     ]  [ (3,2) x26,y26     ]  [ (3,3) x27,y27     ]  [ (3,4) x28,y28     ]  [ (3,5) x29,y29     ]  [ (3,6) x30,y30     ]  [ (3,7) x31,y31     ]  [ (3,8) x32,y32     ]  [ (3,9) x33,y33     ]  [ (3,10) x34,y34    ]  [ (3,11) x35,y35    ]  [ (3,12) x36,y36    ]\n",
      "[ (4,1) x37,y37     ]  [ (4,2) x38,y38     ]  [ (4,3) x39,y39     ]  [ (4,4) x40,y40     ]  [ (4,5) x41,y41     ]  [ (4,6) x42,y42     ]  [ (4,7) x43,y43     ]  [ (4,8) x44,y44     ]  [ (4,9) x45,y45     ]  [ (4,10) x46,y46    ]  [ (4,11) x47,y47    ]  [ (4,12) x48,y48    ]\n",
      "[ (5,1) x49,y49     ]  [ (5,2) x50,y50     ]  [ (5,3) x51,y51     ]  [ (5,4) x52,y52     ]  [ (5,5) x53,y53     ]  [ (5,6) x54,y54     ]  [ (5,7) x55,y55     ]  [ (5,8) x56,y56     ]  [ (5,9) x57,y57     ]  [ (5,10) x58,y58    ]  [ (5,11) x59,y59    ]  [ (5,12) x60,y60    ]\n",
      "[ (6,1) x61,y61     ]  [ (6,2) x62,y62     ]  [ (6,3) x63,y63     ]  [ (6,4) x64,y64     ]  [ (6,5) x65,y65     ]  [ (6,6) x66,y66     ]  [ (6,7) x67,y67     ]  [ (6,8) x68,y68     ]  [ (6,9) x69,y69     ]  [ (6,10) x70,y70    ]  [ (6,11) x71,y71    ]  [ (6,12) x72,y72    ]\n",
      "[ (7,1) x73,y73     ]  [ (7,2) x74,y74     ]  [ (7,3) x75,y75     ]  [ (7,4) x76,y76     ]  [ (7,5) x77,y77     ]  [ (7,6) x78,y78     ]  [ (7,7) x79,y79     ]  [ (7,8) x80,y80     ]  [ (7,9) x81,y81     ]  [ (7,10) x82,y82    ]  [ (7,11) x83,y83    ]  [ (7,12) x84,y84    ]\n",
      "[ (8,1) x85,y85     ]  [ (8,2) x86,y86     ]  [ (8,3) x87,y87     ]  [ (8,4) x88,y88     ]  [ (8,5) x89,y89     ]  [ (8,6) x90,y90     ]  [ (8,7) x91,y91     ]  [ (8,8) x92,y92     ]  [ (8,9) x93,y93     ]  [ (8,10) x94,y94    ]  [ (8,11) x95,y95    ]  [ (8,12) x96,y96    ]\n",
      "[ (9,1) x97,y97     ]  [ (9,2) x98,y98     ]  [ (9,3) x99,y99     ]  [ (9,4) x100,y100   ]  [ (9,5) x101,y101   ]  [ (9,6) x102,y102   ]  [ (9,7) x103,y103   ]  [ (9,8) x104,y104   ]  [ (9,9) x105,y105   ]  [ (9,10) x106,y106  ]  [ (9,11) x107,y107  ]  [ (9,12) x108,y108  ]\n",
      "[ (10,1) x109,y109  ]  [ (10,2) x110,y110  ]  [ (10,3) x111,y111  ]  [ (10,4) x112,y112  ]  [ (10,5) x113,y113  ]  [ (10,6) x114,y114  ]  [ (10,7) x115,y115  ]  [ (10,8) x116,y116  ]  [ (10,9) x117,y117  ]  [ (10,10) x118,y118 ]  [ (10,11) x119,y119 ]  [ (10,12) x120,y120 ]\n",
      "[ (11,1) x121,y121  ]  [ (11,2) x122,y122  ]  [ (11,3) x123,y123  ]  [ (11,4) x124,y124  ]  [ (11,5) x125,y125  ]  [ (11,6) x126,y126  ]  [ (11,7) x127,y127  ]  [ (11,8) x128,y128  ]  [ (11,9) x129,y129  ]  [ (11,10) x130,y130 ]  [ (11,11) x131,y131 ]  [ (11,12) x132,y132 ]\n",
      "[ (12,1) x133,y133  ]  [ (12,2) x134,y134  ]  [ (12,3) x135,y135  ]  [ (12,4) x136,y136  ]  [ (12,5) x137,y137  ]  [ (12,6) x138,y138  ]  [ (12,7) x139,y139  ]  [ (12,8) x140,y140  ]  [ (12,9) x141,y141  ]  [ (12,10) x142,y142 ]  [ (12,11) x143,y143 ]  [ (12,12) x144,y144 ]\n",
      "[ (13,1) x145,y145  ]  [ (13,2) x146,y146  ]  [ (13,3) x147,y147  ]  [ (13,4) x148,y148  ]  [ (13,5) x149,y149  ]  [ (13,6) x150,y150  ]  [ (13,7) x151,y151  ]  [ (13,8) x152,y152  ]  [ (13,9) x153,y153  ]  [ (13,10) x154,y154 ]  [ (13,11) x155,y155 ]  [ (13,12) x156,y156 ]\n",
      "[ (14,1) x157,y157  ]  [ (14,2) x158,y158  ]  [ (14,3) x159,y159  ]  [ (14,4) x160,y160  ]  [ (14,5) x161,y161  ]  [ (14,6) x162,y162  ]  [ (14,7) x163,y163  ]  [ (14,8) x164,y164  ]  [ (14,9) x165,y165  ]  [ (14,10) x166,y166 ]  [ (14,11) x167,y167 ]  [ (14,12) x168,y168 ]\n",
      "[ (15,1) x169,y169  ]  [ (15,2) x170,y170  ]  [ (15,3) x171,y171  ]  [ (15,4) x172,y172  ]  [ (15,5) x173,y173  ]  [ (15,6) x174,y174  ]  [ (15,7) x175,y175  ]  [ (15,8) x176,y176  ]  [ (15,9) x177,y177  ]  [ (15,10) x178,y178 ]  [ (15,11) x179,y179 ]  [ (15,12) x180,y180 ]\n",
      "\n"
     ]
    }
   ],
   "source": [
    "from plotly.subplots import make_subplots\n",
    "wells = rawdata['wells']\n",
    "well = 0\n",
    "threshold=0.02\n",
    "rows=15\n",
    "cols=12\n",
    "\n",
    "fig = make_subplots(\n",
    "    rows, cols, shared_xaxes=True)\n",
    "total = rows*cols\n",
    "    \n",
    "i, j = 1, 1\n",
    "\n",
    "for well in range(total):\n",
    "    x = [1,2,3,4,5,6]\n",
    "    y = [2,4,5,7,89,88]\n",
    "\n",
    "    fig.add_trace(go.Scatter(x=x, y=y, showlegend=False), row=j, col=i)\n",
    "\n",
    "    i += 1\n",
    "    if i == 13:\n",
    "        i = 1\n",
    "        j += 1\n",
    "\n",
    "    \n",
    "    from scipy.signal import find_peaks\n",
    "\n",
    "\n",
    "fig.update_layout(height=800, width=1400)\n",
    "\n",
    "fig.print_grid()\n"
   ]
  },
  {
   "cell_type": "code",
   "execution_count": null,
   "id": "8d075b0c-728d-468e-bb64-be2c7e1d66ec",
   "metadata": {},
   "outputs": [],
   "source": []
  }
 ],
 "metadata": {
  "kernelspec": {
   "display_name": "Python 3 (ipykernel)",
   "language": "python",
   "name": "python3"
  },
  "language_info": {
   "codemirror_mode": {
    "name": "ipython",
    "version": 3
   },
   "file_extension": ".py",
   "mimetype": "text/x-python",
   "name": "python",
   "nbconvert_exporter": "python",
   "pygments_lexer": "ipython3",
   "version": "3.9.16"
  }
 },
 "nbformat": 4,
 "nbformat_minor": 5
}
